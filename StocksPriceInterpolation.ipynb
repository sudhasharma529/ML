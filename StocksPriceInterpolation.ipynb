{
 "cells": [
  {
   "cell_type": "code",
   "execution_count": 357,
   "metadata": {
    "scrolled": true
   },
   "outputs": [
    {
     "name": "stdout",
     "output_type": "stream",
     "text": [
      "Once deleted, variables cannot be recovered. Proceed (y/[n])? y\n",
      "[288.43754521 310.79200725 309.2845198  307.8211324  307.34310507\n",
      " 325.29053773 317.97126664 317.38631567 291.41058665 322.52116025\n",
      " 337.18139301 339.36298306 346.98644915 347.74925084 360.11711254\n",
      " 368.41529361 366.92221451 347.02780523 334.0390601  362.70823343]\n"
     ]
    },
    {
     "data": {
      "text/plain": [
       "<matplotlib.collections.PathCollection at 0x254525bdee0>"
      ]
     },
     "execution_count": 357,
     "metadata": {},
     "output_type": "execute_result"
    },
    {
     "data": {
      "image/png": "[encoded data removed]",
      "text/plain": [
       "<Figure size 720x360 with 1 Axes>"
      ]
     },
     "metadata": {
      "needs_background": "light"
     },
     "output_type": "display_data"
    }
   ],
   "source": [
    "%reset\n",
    "import pandas as pd\n",
    "import matplotlib.pyplot as plt\n",
    "import numpy as np\n",
    "\n",
    "dat=[]\n",
    "dattme=[]\n",
    "dattmemissing=[]\n",
    "\n",
    "with open(r'C:\\Users\\sudha\\Desktop\\CogniantAssignment\\input01.txt') as f:\n",
    "    for line in f:\n",
    "        aa=line.split(\"\\t\")\n",
    "        \n",
    "        if len(aa)==2:\n",
    "            if aa[1].find('Miss')==-1:\n",
    "                dat.append(float(aa[1]))\n",
    "                dattme.append(aa[0])\n",
    "            else:\n",
    "                dattmemissing.append(aa[0])\n",
    "                  \n",
    "                \n",
    "ydata=np.array(dat)\n",
    "\n",
    "from datetime import datetime\n",
    "times=[]\n",
    "for ii in range(len(dattme)):\n",
    "    date_string=dattme[ii]\n",
    "    dt_object = datetime.strptime(date_string, \"%m/%d/%Y %H:%M:%S\")\n",
    "    timestamp = datetime.timestamp(dt_object)\n",
    "    times.append(timestamp)\n",
    "xdata=np.array(times)\n",
    "# xdata=(xdata-xdata[0])\n",
    "\n",
    "plt.figure(figsize=(10,5))    \n",
    "plt.scatter(xdata,ydata,s=5)\n",
    "\n",
    "\n",
    "from datetime import datetime\n",
    "times2=[]\n",
    "for jj in range(len(dattmemissing)):\n",
    "    date_string2=dattmemissing[jj]\n",
    "    dt_object2 = datetime.strptime(date_string2, \"%m/%d/%Y %H:%M:%S\")\n",
    "    timestamp2 = datetime.timestamp(dt_object2)\n",
    "    times2.append(timestamp2)\n",
    "xdatamissing=np.array(times2)\n",
    "# xdatamissing=(xdatamissing-xdata[0])\n",
    "\n",
    "\n",
    "ydatamissing=np.zeros(len(xdatamissing))+np.min(ydata)\n",
    "# plt.scatter(xdatamissing,ydatamissing,s=5)\n",
    "\n",
    "\n",
    "\n",
    "\n",
    "from scipy import interpolate\n",
    "def f(x):\n",
    "    x_points = xdata\n",
    "    y_points = ydata\n",
    "\n",
    "    tck = interpolate.splrep(x_points, y_points)\n",
    "    return interpolate.splev(x, tck)\n",
    "\n",
    "ydatamissing=f(xdatamissing)\n",
    "print(ydatamissing)\n",
    "plt.scatter(xdatamissing,ydatamissing,s=5,color='r')\n"
   ]
  },
  {
   "cell_type": "code",
   "execution_count": null,
   "metadata": {},
   "outputs": [],
   "source": [
    "\n"
   ]
  },
  {
   "cell_type": "code",
   "execution_count": null,
   "metadata": {},
   "outputs": [],
   "source": []
  }
 ],
 "metadata": {
  "kernelspec": {
   "display_name": "Python 3",
   "language": "python",
   "name": "python3"
  },
  "language_info": {
   "codemirror_mode": {
    "name": "ipython",
    "version": 3
   },
   "file_extension": ".py",
   "mimetype": "text/x-python",
   "name": "python",
   "nbconvert_exporter": "python",
   "pygments_lexer": "ipython3",
   "version": "3.8.3"
  }
 },
 "nbformat": 4,
 "nbformat_minor": 4
}
