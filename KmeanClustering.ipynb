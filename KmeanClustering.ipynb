{
 "cells": [
  {
   "cell_type": "code",
   "execution_count": null,
   "metadata": {},
   "outputs": [],
   "source": [
    "def main(data,k):\n",
    "    centroids = initialize_centroids(data,k)\n",
    "    \n",
    "    while True:\n",
    "        old_centroids = centroids\n",
    "        labels = get_labels(data, centroids)\n",
    "        centroids = update_centroids(data, labels, k)\n",
    "        \n",
    "        if should_stop(old_centroids, centroids):\n",
    "            break\n",
    "    return labels     \n",
    "        "
   ]
  },
  {
   "cell_type": "code",
   "execution_count": null,
   "metadata": {},
   "outputs": [],
   "source": [
    "def random_sample(low,high):\n",
    "    return low + (high-low) * random.random()\n",
    "\n",
    "def initialize centroids(data,k):\n",
    "    x_min = y_min = float('inf')\n",
    "    x_max = y_max = float('-inf')\n",
    "    for point in data:\n",
    "        x_min = min(point[0], x_min)\n",
    "        x_max = max(point[0], x_max)\n",
    "        y_min = min(point[1], y_min)\n",
    "        y_max = max(point[1], y_max)\n",
    "        \n",
    "    centroids =[]\n",
    "    for i in range(k):\n",
    "        centroids.append([random_sample(x_min, x_max),\n",
    "                         random_sample(y_min, y_max)])\n",
    "    return centroids \n",
    "\n",
    "def get_labels(data, centroids):\n",
    "    labels=[];\n",
    "    for point in data:\n",
    "        min_dist=float('inf')\n",
    "        label=None\n",
    "        for i, centroid in enumerate(centroids):\n",
    "            new_dist=get_distance(point, centroid)\n",
    "            if min_dist>new_dist:\n",
    "                min_dist=new_dist\n",
    "                label=i\n",
    "        labels.append(label)\n",
    "    return labels\n",
    "\n",
    "def get_distance(point_1,point_2):\n",
    "    return ((point_1[0]-point_2[0])**2+\n",
    "            (point_1[1]-point_2[1])**2)**0.5\n",
    "\n",
    "def update_centroids(points, labels, k):\n",
    "    new_centroids=[[0,0] for i in range(k)]\n",
    "    counts=[0]*k\n",
    "    \n",
    "    for point, label in zip(points, labels):\n",
    "        new_centroids[label][0]+=point[0]\n",
    "        new_centroids[label][1]+=point[1]\n",
    "        counts[label]+=1\n",
    "        \n",
    "    for i,(x,y) in enumerate(new_centroids):\n",
    "        new_centroids[i]=(x/counts[i],y/counts[i])\n",
    "    return new_centroids    \n",
    "\n",
    "\n",
    "def should_stop(old_centroids, new_centroids, thresholds=1e-5):\n",
    "    total_movement = 0\n",
    "    for old_point, new_point in zip(old_centroids, new_centroids):\n",
    "        total_movement +=get_distance(old_point, new_point)\n",
    "    return total_movement < threshold    "
   ]
  }
 ],
 "metadata": {
  "kernelspec": {
   "display_name": "Python 3",
   "language": "python",
   "name": "python3"
  },
  "language_info": {
   "codemirror_mode": {
    "name": "ipython",
    "version": 3
   },
   "file_extension": ".py",
   "mimetype": "text/x-python",
   "name": "python",
   "nbconvert_exporter": "python",
   "pygments_lexer": "ipython3",
   "version": "3.8.3"
  }
 },
 "nbformat": 4,
 "nbformat_minor": 4
}
