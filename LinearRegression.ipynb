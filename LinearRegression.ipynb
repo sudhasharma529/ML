{
 "cells": [
  {
   "cell_type": "code",
   "execution_count": null,
   "metadata": {},
   "outputs": [],
   "source": [
    "def linear_regression(x,y iterations=100,\n",
    "                     learning_rate=0.01):\n",
    "    n,m =len(x[0]),len(x)\n",
    "    beta_0, beta_other =initialize_params(n)\n",
    "    for _ in range(iterations):\n",
    "        gradient_beta_0, gradient_beta_other =compute_gradient(x,y,beta_0,beta_other,n,m)\n",
    "        beta_0,beta_other=update_params(beta_0,beta_other,gradient_beta_0,gradient_beta_other, learning_rate)\n",
    "    return beta_0, beta_other\n",
    "\n",
    "\n",
    "\n",
    "def initialize_params(dimensions):\n",
    "    beta_0=0\n",
    "    beta_other=[random.random()\n",
    "               for _ in range(dimensions)]\n",
    "    return beta_0, beta_other\n",
    "\n",
    "def compute_gradient(x,y, beta_0, beta_other,dimension,m):\n",
    "    gradient_beta_0=0\n",
    "    gradient_beta_other=[0]*dimension\n",
    "    \n",
    "    for i in range(m):\n",
    "        y_i_hat=sum(x[i][j]*beta_other[j]\n",
    "                    for j in range(dimension))+beta_0\n",
    "        derror_dy = 2*(y[i]-y_i_hat)\n",
    "        for j in range(dimension):\n",
    "            gradient_beta_0 +=derror_dy/n\n",
    "    return gradient_beta_0,gradient_beta_other        \n",
    "\n",
    "def update_params(beta_0,beta_other,gradient_beta_0, gradient_beta_other,learning_rate):\n",
    "    beta_0+=gradient_beta_0*learning_rate\n",
    "    for i in range(len(beta_1)):\n",
    "        beta_other[i]+=(gradient_beta_other[i]*learning_rate)\n",
    "    return beta_0, beta_other\n",
    "    \n",
    "\n"
   ]
  }
 ],
 "metadata": {
  "kernelspec": {
   "display_name": "Python 3",
   "language": "python",
   "name": "python3"
  },
  "language_info": {
   "codemirror_mode": {
    "name": "ipython",
    "version": 3
   },
   "file_extension": ".py",
   "mimetype": "text/x-python",
   "name": "python",
   "nbconvert_exporter": "python",
   "pygments_lexer": "ipython3",
   "version": "3.8.3"
  }
 },
 "nbformat": 4,
 "nbformat_minor": 4
}
